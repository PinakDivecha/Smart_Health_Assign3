{
  "nbformat": 4,
  "nbformat_minor": 0,
  "metadata": {
    "colab": {
      "name": "Smart_health_Assign_3.ipynb",
      "provenance": [],
      "collapsed_sections": []
    },
    "kernelspec": {
      "name": "python3",
      "display_name": "Python 3"
    },
    "accelerator": "GPU"
  },
  "cells": [
    {
      "cell_type": "code",
      "metadata": {
        "id": "dZgaj0iOqTH5",
        "colab_type": "code",
        "colab": {}
      },
      "source": [
        "import os\n",
        "import cv2\n",
        "import numpy as np \n",
        "import matplotlib.pyplot as plt\n",
        "from sklearn.metrics import accuracy_score, f1_score, precision_score, recall_score, classification_report, confusion_matrix\n",
        "\n",
        "import tensorflow as tf\n",
        "from tensorflow import keras\n",
        "from tensorflow.keras import layers\n",
        "from tensorflow.keras.models import Sequential, load_model\n",
        "from tensorflow.keras.layers import Dense\n",
        "from tensorflow.keras.utils import to_categorical\n",
        "from keras.preprocessing.image import ImageDataGenerator\n",
        "from tensorflow.keras.layers import Dropout\n",
        "from tensorflow.keras.layers import Flatten,BatchNormalization\n",
        "from tensorflow.keras.callbacks import ModelCheckpoint, EarlyStopping\n",
        "from tensorflow.keras.layers import Convolution2D,Conv2D\n",
        "from tensorflow.keras.layers import MaxPooling2D\n",
        "from tensorflow.compat.v1 import ConfigProto\n",
        "from tensorflow.compat.v1 import InteractiveSession\n",
        "from keras import optimizers\n",
        "from keras.models import Model,load_model\n",
        "\n",
        "from sklearn.preprocessing import OneHotEncoder,LabelEncoder\n",
        "from sklearn.model_selection import train_test_split\n",
        "from sklearn.model_selection import StratifiedKFold"
      ],
      "execution_count": 41,
      "outputs": []
    },
    {
      "cell_type": "code",
      "metadata": {
        "id": "Lw6tKEp7G29L",
        "colab_type": "code",
        "colab": {
          "base_uri": "https://localhost:8080/",
          "height": 34
        },
        "outputId": "3a2801ce-0deb-41d0-cc19-dc05b77f9119"
      },
      "source": [
        "from google.colab import drive\n",
        "drive.mount('/content/drive/')"
      ],
      "execution_count": 42,
      "outputs": [
        {
          "output_type": "stream",
          "text": [
            "Drive already mounted at /content/drive/; to attempt to forcibly remount, call drive.mount(\"/content/drive/\", force_remount=True).\n"
          ],
          "name": "stdout"
        }
      ]
    },
    {
      "cell_type": "code",
      "metadata": {
        "id": "UJONKJB8r3II",
        "colab_type": "code",
        "colab": {}
      },
      "source": [
        "import glob\n",
        "\n",
        "root_path = '/content/drive/My Drive/Smart Health/Assignment_3/DS/'\n",
        "data_X = []\n",
        "data_Y = []\n",
        "err_else = 0\n",
        "for name in glob.glob(root_path+'*'):\n",
        "  tmp_class_num = None\n",
        "  if 'Abdomen' in name:\n",
        "    tmp_class_num = 0\n",
        "  elif 'Head' in name:\n",
        "    tmp_class_num = 1\n",
        "      # print \"Not found!\"\n",
        "  elif 'Chest' in name:\n",
        "    tmp_class_num = 2    \n",
        "  each_file_path = name\n",
        "  img_arr = cv2.imread(each_file_path, cv2.IMREAD_GRAYSCALE)\n",
        "  resized_arr = cv2.resize(img_arr, (32, 32))\n",
        "  # print(type(resized_arr))\n",
        "  if err_else == 0:\n",
        "    data_X.append(resized_arr)\n",
        "    data_Y.append(tmp_class_num)\n",
        "  else:\n",
        "    print(\"Break error: \", eachFile)\n",
        "    break\n"
      ],
      "execution_count": 44,
      "outputs": []
    },
    {
      "cell_type": "code",
      "metadata": {
        "id": "Ah6q6RXbRvxO",
        "colab_type": "code",
        "colab": {
          "base_uri": "https://localhost:8080/",
          "height": 34
        },
        "outputId": "434993c8-dff1-41a0-8520-8e67094e11eb"
      },
      "source": [
        "print(type(data_X), len(data_X), len(data_X[0]), len(data_X[1]))\n",
        "data_X = np.array(data_X)\n",
        "data_Y = np.array(data_Y)\n"
      ],
      "execution_count": 45,
      "outputs": [
        {
          "output_type": "stream",
          "text": [
            "<class 'list'> 1500 32 32\n"
          ],
          "name": "stdout"
        }
      ]
    },
    {
      "cell_type": "code",
      "metadata": {
        "id": "1B-N1OcWeA0E",
        "colab_type": "code",
        "colab": {
          "base_uri": "https://localhost:8080/",
          "height": 151
        },
        "outputId": "2ae43d84-1f01-4b69-a33d-448c237f9a71"
      },
      "source": [
        "print(data_X.shape,\"   \",data_Y.shape)\n",
        "data_X[0]"
      ],
      "execution_count": 46,
      "outputs": [
        {
          "output_type": "stream",
          "text": [
            "(1500, 32, 32)     (1500,)\n"
          ],
          "name": "stdout"
        },
        {
          "output_type": "execute_result",
          "data": {
            "text/plain": [
              "array([[101, 101, 101, ..., 101, 101, 101],\n",
              "       [101, 101, 101, ..., 101, 101, 101],\n",
              "       [101, 101, 101, ..., 101, 101, 101],\n",
              "       ...,\n",
              "       [101, 101, 101, ..., 101, 101, 101],\n",
              "       [101, 101, 101, ..., 101, 101, 101],\n",
              "       [101, 101, 101, ..., 101, 101, 101]], dtype=uint8)"
            ]
          },
          "metadata": {
            "tags": []
          },
          "execution_count": 46
        }
      ]
    },
    {
      "cell_type": "code",
      "metadata": {
        "id": "IF5pMjQqgbyJ",
        "colab_type": "code",
        "colab": {}
      },
      "source": [
        "data_X[1]"
      ],
      "execution_count": null,
      "outputs": []
    },
    {
      "cell_type": "code",
      "metadata": {
        "id": "HHwWQ5srd-SQ",
        "colab_type": "code",
        "colab": {}
      },
      "source": [
        "data_X = data_X / 255"
      ],
      "execution_count": null,
      "outputs": []
    },
    {
      "cell_type": "code",
      "metadata": {
        "id": "DcaR9c7veJr8",
        "colab_type": "code",
        "colab": {}
      },
      "source": [
        "data_X[0]"
      ],
      "execution_count": null,
      "outputs": []
    },
    {
      "cell_type": "code",
      "metadata": {
        "id": "EaSr3xFkgh4P",
        "colab_type": "code",
        "colab": {}
      },
      "source": [
        "data_X[1]"
      ],
      "execution_count": null,
      "outputs": []
    },
    {
      "cell_type": "code",
      "metadata": {
        "id": "pel9sX7uoilQ",
        "colab_type": "code",
        "colab": {}
      },
      "source": [
        "X_train, X_test, Y_train, Y_test = train_test_split(data_X, data_Y, test_size=0.3, random_state=42)"
      ],
      "execution_count": null,
      "outputs": []
    },
    {
      "cell_type": "code",
      "metadata": {
        "id": "IYomjfhw6xdm",
        "colab_type": "code",
        "colab": {}
      },
      "source": [
        "c_a = 0\n",
        "c_b = 0\n",
        "c_c = 0\n",
        "for i in Y_train:\n",
        "  if i==0:\n",
        "    c_a = c_a +1\n",
        "  \n",
        "  if i==1:\n",
        "    c_b = c_b +1\n",
        "  \n",
        "  if i==2:\n",
        "    c_c = c_c +1"
      ],
      "execution_count": null,
      "outputs": []
    },
    {
      "cell_type": "code",
      "metadata": {
        "id": "MrQ_zAkteN2d",
        "colab_type": "code",
        "colab": {}
      },
      "source": [
        "print(c_a,\"   \",c_b,\"  \",c_c)"
      ],
      "execution_count": null,
      "outputs": []
    },
    {
      "cell_type": "code",
      "metadata": {
        "id": "CkcU0wM6ZHqX",
        "colab_type": "code",
        "colab": {}
      },
      "source": [
        "plt.figure(figsize = (10, 10))\n",
        "plt.imshow(data_X[0], cmap='gray')\n",
        "plt.title(data_Y[0])"
      ],
      "execution_count": null,
      "outputs": []
    },
    {
      "cell_type": "code",
      "metadata": {
        "id": "ewCQDhsvZXHF",
        "colab_type": "code",
        "colab": {}
      },
      "source": [
        "activationFunction = 'relu'\n",
        "def getModel():\n",
        "    model = Sequential()\n",
        "    \n",
        "    model.add(Conv2D(64, kernel_size = (5, 5), activation=activationFunction, input_shape=(32, 32, 1)))\n",
        "    model.add(MaxPooling2D(pool_size=(2,2)))\n",
        "    model.add(Dropout(0.1))\n",
        "\n",
        "    model.add(Conv2D(48, kernel_size=(3,3), activation=activationFunction))\n",
        "    model.add(MaxPooling2D(pool_size=(2,2)))\n",
        "    model.add(Dropout(0.1))\n",
        "    \n",
        "    model.add(Conv2D(20, kernel_size=(3,3), activation=activationFunction))\n",
        "    model.add(MaxPooling2D(pool_size=(2,2)))\n",
        "    model.add(Dropout(0.1))\n",
        "    \n",
        "    model.add(Flatten())\n",
        "    model.add(Dense(100, activation=activationFunction, name ='feature_dense'))\n",
        "    model.add(Dense(3, activation = 'softmax'))\n",
        "    model.compile(optimizer='adam', loss='sparse_categorical_crossentropy', metrics=['accuracy'])\n",
        "    \n",
        "    return model\n",
        "\n",
        "model_train = getModel()\n",
        "# model_test = getModel()"
      ],
      "execution_count": null,
      "outputs": []
    },
    {
      "cell_type": "code",
      "metadata": {
        "id": "hr3DPc_Wg30V",
        "colab_type": "code",
        "colab": {}
      },
      "source": [
        "def showResults(test, pred):\n",
        "    target_names = ['A', 'C', 'H']\n",
        "    print(classification_report(test, pred, target_names=target_names))\n",
        "    accuracy = accuracy_score(test, pred)\n",
        "    precision=precision_score(test, pred, average='weighted')\n",
        "    f1Score=f1_score(test, pred, average='weighted') \n",
        "    print(\"Accuracy  : {}\".format(accuracy))\n",
        "    print(\"Precision : {}\".format(precision))\n",
        "    print(\"f1Score : {}\".format(f1Score))\n",
        "    cm=confusion_matrix(test, pred)\n",
        "    print(cm)"
      ],
      "execution_count": null,
      "outputs": []
    },
    {
      "cell_type": "code",
      "metadata": {
        "id": "ab0yNrGTty14",
        "colab_type": "code",
        "colab": {}
      },
      "source": [
        "X_train = np.expand_dims(X_train, axis = 3)\n",
        "X_test = np.expand_dims(X_test, axis = 3)\n",
        "print(X_train.shape, X_test.shape, Y_train.shape, Y_test.shape)\n",
        "epoch_num = 7"
      ],
      "execution_count": null,
      "outputs": []
    },
    {
      "cell_type": "code",
      "metadata": {
        "id": "IThMKwFWrDnY",
        "colab_type": "code",
        "colab": {}
      },
      "source": [
        "# y_train_cat = to_categorical(Y_train)\n",
        "# y_test_cat = to_categorical(Y_test)"
      ],
      "execution_count": null,
      "outputs": []
    },
    {
      "cell_type": "code",
      "metadata": {
        "id": "zbXVfdQ7iNex",
        "colab_type": "code",
        "colab": {}
      },
      "source": [
        "history_train = model_train.fit(X_train, Y_train, \n",
        "                    epochs=epoch_num, \n",
        "                    batch_size = 64)  "
      ],
      "execution_count": null,
      "outputs": []
    },
    {
      "cell_type": "code",
      "metadata": {
        "id": "Q2bGcRK7KFWQ",
        "colab_type": "code",
        "colab": {}
      },
      "source": [
        "intermediate_layer_train = Model(inputs=model_train.input,\n",
        "                                 outputs=model_train.get_layer('feature_dense').output)\n",
        "\n",
        "intermediate_layer_train.summary()"
      ],
      "execution_count": null,
      "outputs": []
    },
    {
      "cell_type": "code",
      "metadata": {
        "id": "S8XuBd18Ly0z",
        "colab_type": "code",
        "colab": {}
      },
      "source": [
        "XTrainFeature = intermediate_layer_train.predict(X_train)\n",
        "XTestFeature = intermediate_layer_train.predict(X_test)"
      ],
      "execution_count": null,
      "outputs": []
    },
    {
      "cell_type": "code",
      "metadata": {
        "id": "zVAg5pxsj3KL",
        "colab_type": "code",
        "colab": {}
      },
      "source": [
        "print(XTestFeature.shape,\"   \",XTrainFeature.shape)"
      ],
      "execution_count": null,
      "outputs": []
    },
    {
      "cell_type": "code",
      "metadata": {
        "id": "eF-DaIF6Lomt",
        "colab_type": "code",
        "colab": {}
      },
      "source": [
        "from sklearn.neighbors import KNeighborsClassifier\n",
        "from sklearn.model_selection import GridSearchCV\n",
        "from sklearn.metrics import accuracy_score\n",
        "neigh = KNeighborsClassifier()\n",
        "k_range = [3, 5, 7, 9]\n",
        "param_grid = dict(n_neighbors=k_range)\n",
        "grid = GridSearchCV(neigh, param_grid, cv=5, scoring='accuracy')"
      ],
      "execution_count": null,
      "outputs": []
    },
    {
      "cell_type": "code",
      "metadata": {
        "id": "ELTf1jjRjo06",
        "colab_type": "code",
        "colab": {}
      },
      "source": [
        "grid.fit(XTrainFeature, Y_train)"
      ],
      "execution_count": null,
      "outputs": []
    },
    {
      "cell_type": "code",
      "metadata": {
        "id": "h0rOHe_mjxTv",
        "colab_type": "code",
        "colab": {}
      },
      "source": [
        "grid.best_params_"
      ],
      "execution_count": null,
      "outputs": []
    },
    {
      "cell_type": "code",
      "metadata": {
        "id": "GHPqL_yATIdQ",
        "colab_type": "code",
        "colab": {}
      },
      "source": [
        "grid.cv_results_"
      ],
      "execution_count": null,
      "outputs": []
    },
    {
      "cell_type": "code",
      "metadata": {
        "id": "yvltn72gk7vi",
        "colab_type": "code",
        "colab": {}
      },
      "source": [
        "import pickle\n",
        "pkl_knn = \"/content/drive/My Drive/Smart Health/publicID-KNN.pkl\"\n",
        "pkl_rf = \"/content/drive/My Drive/Smart Health/publicID-RF.pkl\"\n",
        "with open(pkl_knn, 'wb') as file:\n",
        "  pickle.dump(grid, file)"
      ],
      "execution_count": null,
      "outputs": []
    },
    {
      "cell_type": "code",
      "metadata": {
        "id": "1_XTMWsLk6wg",
        "colab_type": "code",
        "colab": {}
      },
      "source": [
        "with open(pkl_knn, 'rb') as file:\n",
        "  grid1 = pickle.load(file)\n",
        "x = grid1.predict(XTestFeature)\n",
        "showResults(Y_test, x)"
      ],
      "execution_count": null,
      "outputs": []
    },
    {
      "cell_type": "code",
      "metadata": {
        "id": "EljYFYNL6zkD",
        "colab_type": "code",
        "colab": {}
      },
      "source": [
        "from sklearn.ensemble import RandomForestClassifier\n",
        "from sklearn.model_selection import RandomizedSearchCV"
      ],
      "execution_count": null,
      "outputs": []
    },
    {
      "cell_type": "code",
      "metadata": {
        "id": "QwgynZuGczLJ",
        "colab_type": "code",
        "colab": {}
      },
      "source": [
        "rf_model = RandomForestClassifier()"
      ],
      "execution_count": null,
      "outputs": []
    },
    {
      "cell_type": "code",
      "metadata": {
        "id": "S5cfYC521fTN",
        "colab_type": "code",
        "colab": {}
      },
      "source": [
        "# Create the random grid\n",
        "random_grid = {'n_estimators': [int(x) for x in np.linspace(start = 50, stop = 200, num = 10)],\n",
        "               'max_depth': [int(x) for x in np.linspace(5, 25, num = 5)],\n",
        "               'bootstrap': [True, False]\n",
        "               }"
      ],
      "execution_count": null,
      "outputs": []
    },
    {
      "cell_type": "code",
      "metadata": {
        "id": "PR8Th8v-2Jus",
        "colab_type": "code",
        "colab": {}
      },
      "source": [
        "rf_random = RandomizedSearchCV(estimator =rf_model, \n",
        "                               param_distributions = random_grid, \n",
        "                               n_iter = 25, cv = 5)\n",
        "# Fit the random search model\n",
        "rf_random.fit(XTrainFeature, Y_train)"
      ],
      "execution_count": null,
      "outputs": []
    },
    {
      "cell_type": "code",
      "metadata": {
        "id": "XRr7czUN2ZSW",
        "colab_type": "code",
        "colab": {}
      },
      "source": [
        "rf_random.best_params_"
      ],
      "execution_count": null,
      "outputs": []
    },
    {
      "cell_type": "code",
      "metadata": {
        "id": "-Uq0wKCWlNoK",
        "colab_type": "code",
        "colab": {}
      },
      "source": [
        "with open(pkl_rf, 'wb') as file:\n",
        "  pickle.dump(rf_random, file)"
      ],
      "execution_count": null,
      "outputs": []
    },
    {
      "cell_type": "code",
      "metadata": {
        "id": "XkKAjsDW2fqp",
        "colab_type": "code",
        "colab": {}
      },
      "source": [
        "with open(pkl_rf, 'rb') as file:\n",
        "  rf_random1 = pickle.load(file)\n",
        "predictions = rf_random1.predict(XTestFeature)\n",
        "showResults(Y_test, predictions)"
      ],
      "execution_count": null,
      "outputs": []
    }
  ]
}
