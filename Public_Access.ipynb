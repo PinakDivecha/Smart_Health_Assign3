{
  "nbformat": 4,
  "nbformat_minor": 0,
  "metadata": {
    "colab": {
      "name": "Smart_health_Assign_3.ipynb",
      "provenance": [],
      "collapsed_sections": []
    },
    "kernelspec": {
      "name": "python3",
      "display_name": "Python 3"
    },
    "accelerator": "GPU"
  },
  "cells": [
    {
      "cell_type": "code",
      "metadata": {
        "id": "dZgaj0iOqTH5",
        "colab_type": "code",
        "colab": {}
      },
      "source": [
        "import os\n",
        "import cv2\n",
        "import numpy as np \n",
        "import matplotlib.pyplot as plt\n",
        "from sklearn.metrics import accuracy_score, f1_score, precision_score, recall_score, classification_report, confusion_matrix\n",
        "\n",
        "import tensorflow as tf\n",
        "from tensorflow import keras\n",
        "from tensorflow.keras import layers\n",
        "from tensorflow.keras.models import Sequential, load_model\n",
        "from tensorflow.keras.layers import Dense\n",
        "from tensorflow.keras.utils import to_categorical\n",
        "from keras.preprocessing.image import ImageDataGenerator\n",
        "from tensorflow.keras.layers import Dropout\n",
        "from tensorflow.keras.layers import Flatten,BatchNormalization\n",
        "from tensorflow.keras.callbacks import ModelCheckpoint, EarlyStopping\n",
        "from tensorflow.keras.layers import Convolution2D,Conv2D\n",
        "from tensorflow.keras.layers import MaxPooling2D\n",
        "from tensorflow.compat.v1 import ConfigProto\n",
        "from tensorflow.compat.v1 import InteractiveSession\n",
        "from keras import optimizers\n",
        "from keras.models import Model,load_model\n",
        "\n",
        "from sklearn.preprocessing import OneHotEncoder,LabelEncoder\n",
        "from sklearn.model_selection import train_test_split\n",
        "from sklearn.model_selection import StratifiedKFold"
      ],
      "execution_count": 1,
      "outputs": []
    },
    {
      "cell_type": "code",
      "metadata": {
        "id": "Lw6tKEp7G29L",
        "colab_type": "code",
        "colab": {
          "base_uri": "https://localhost:8080/",
          "height": 34
        },
        "outputId": "28ffd82c-e804-481d-ce22-074759e015b6"
      },
      "source": [
        "from google.colab import drive\n",
        "drive.mount('/content/drive/')"
      ],
      "execution_count": 2,
      "outputs": [
        {
          "output_type": "stream",
          "text": [
            "Drive already mounted at /content/drive/; to attempt to forcibly remount, call drive.mount(\"/content/drive/\", force_remount=True).\n"
          ],
          "name": "stdout"
        }
      ]
    },
    {
      "cell_type": "code",
      "metadata": {
        "id": "UJONKJB8r3II",
        "colab_type": "code",
        "colab": {}
      },
      "source": [
        "import glob\n",
        "\n",
        "root_path = '/content/drive/My Drive/Smart Health/Assignment_3/DS/'\n",
        "data_X = []\n",
        "data_Y = []\n",
        "\n",
        "for name in glob.glob(root_path+'*'):\n",
        "  tmp_class_num = None\n",
        "  if 'Abdomen' in name:\n",
        "    tmp_class_num = 0\n",
        "  elif 'Head' in name:\n",
        "    tmp_class_num = 1\n",
        "      # print \"Not found!\"\n",
        "  elif 'Chest' in name:\n",
        "    tmp_class_num = 2    \n",
        "  each_file_path = name\n",
        "  img_arr = cv2.imread(each_file_path, cv2.IMREAD_GRAYSCALE)\n",
        "  resized_arr = cv2.resize(img_arr, (32, 32))\n",
        "  data_X.append(resized_arr)\n",
        "  data_Y.append(tmp_class_num)\n"
      ],
      "execution_count": 4,
      "outputs": []
    },
    {
      "cell_type": "code",
      "metadata": {
        "id": "Ah6q6RXbRvxO",
        "colab_type": "code",
        "colab": {
          "base_uri": "https://localhost:8080/",
          "height": 34
        },
        "outputId": "21601ca5-b797-42f4-e153-e58935c82e0e"
      },
      "source": [
        "print(type(data_X), len(data_X), len(data_X[0]), len(data_X[1]))\n",
        "data_X = np.array(data_X)\n",
        "data_Y = np.array(data_Y)\n"
      ],
      "execution_count": 5,
      "outputs": [
        {
          "output_type": "stream",
          "text": [
            "<class 'list'> 1500 32 32\n"
          ],
          "name": "stdout"
        }
      ]
    },
    {
      "cell_type": "code",
      "metadata": {
        "id": "1B-N1OcWeA0E",
        "colab_type": "code",
        "colab": {
          "base_uri": "https://localhost:8080/",
          "height": 151
        },
        "outputId": "f0fa0b73-f248-4af9-cd5e-e9a2b085f0bb"
      },
      "source": [
        "print(data_X.shape,\"   \",data_Y.shape)\n",
        "data_X[0]"
      ],
      "execution_count": 7,
      "outputs": [
        {
          "output_type": "stream",
          "text": [
            "(1500, 32, 32)     (1500,)\n"
          ],
          "name": "stdout"
        },
        {
          "output_type": "execute_result",
          "data": {
            "text/plain": [
              "array([[101, 101, 101, ..., 101, 101, 101],\n",
              "       [101, 101, 101, ..., 101, 101, 101],\n",
              "       [101, 101, 101, ..., 101, 101, 101],\n",
              "       ...,\n",
              "       [101, 101, 101, ..., 101, 101, 101],\n",
              "       [101, 101, 101, ..., 101, 101, 101],\n",
              "       [101, 101, 101, ..., 101, 101, 101]], dtype=uint8)"
            ]
          },
          "metadata": {
            "tags": []
          },
          "execution_count": 7
        }
      ]
    },
    {
      "cell_type": "code",
      "metadata": {
        "id": "IF5pMjQqgbyJ",
        "colab_type": "code",
        "colab": {
          "base_uri": "https://localhost:8080/",
          "height": 134
        },
        "outputId": "f000fa5b-68be-47d1-e83a-e0406e695a34"
      },
      "source": [
        "data_X[1]"
      ],
      "execution_count": 8,
      "outputs": [
        {
          "output_type": "execute_result",
          "data": {
            "text/plain": [
              "array([[126, 126, 126, ..., 126, 126, 126],\n",
              "       [126, 126, 126, ..., 126, 126, 126],\n",
              "       [126, 126, 126, ..., 126, 126, 126],\n",
              "       ...,\n",
              "       [126, 126, 126, ..., 126, 126, 126],\n",
              "       [126, 126, 126, ..., 126, 126, 126],\n",
              "       [126, 126, 126, ..., 126, 126, 126]], dtype=uint8)"
            ]
          },
          "metadata": {
            "tags": []
          },
          "execution_count": 8
        }
      ]
    },
    {
      "cell_type": "code",
      "metadata": {
        "id": "HHwWQ5srd-SQ",
        "colab_type": "code",
        "colab": {}
      },
      "source": [
        "data_X = data_X / 255"
      ],
      "execution_count": 9,
      "outputs": []
    },
    {
      "cell_type": "code",
      "metadata": {
        "id": "DcaR9c7veJr8",
        "colab_type": "code",
        "colab": {
          "base_uri": "https://localhost:8080/",
          "height": 235
        },
        "outputId": "308e5334-6efe-430e-89c4-c4568d072ae9"
      },
      "source": [
        "data_X[0]"
      ],
      "execution_count": 10,
      "outputs": [
        {
          "output_type": "execute_result",
          "data": {
            "text/plain": [
              "array([[0.39607843, 0.39607843, 0.39607843, ..., 0.39607843, 0.39607843,\n",
              "        0.39607843],\n",
              "       [0.39607843, 0.39607843, 0.39607843, ..., 0.39607843, 0.39607843,\n",
              "        0.39607843],\n",
              "       [0.39607843, 0.39607843, 0.39607843, ..., 0.39607843, 0.39607843,\n",
              "        0.39607843],\n",
              "       ...,\n",
              "       [0.39607843, 0.39607843, 0.39607843, ..., 0.39607843, 0.39607843,\n",
              "        0.39607843],\n",
              "       [0.39607843, 0.39607843, 0.39607843, ..., 0.39607843, 0.39607843,\n",
              "        0.39607843],\n",
              "       [0.39607843, 0.39607843, 0.39607843, ..., 0.39607843, 0.39607843,\n",
              "        0.39607843]])"
            ]
          },
          "metadata": {
            "tags": []
          },
          "execution_count": 10
        }
      ]
    },
    {
      "cell_type": "code",
      "metadata": {
        "id": "EaSr3xFkgh4P",
        "colab_type": "code",
        "colab": {
          "base_uri": "https://localhost:8080/",
          "height": 235
        },
        "outputId": "c469308d-19be-4ec8-a809-9dac7fba07f8"
      },
      "source": [
        "data_X[1]"
      ],
      "execution_count": 11,
      "outputs": [
        {
          "output_type": "execute_result",
          "data": {
            "text/plain": [
              "array([[0.49411765, 0.49411765, 0.49411765, ..., 0.49411765, 0.49411765,\n",
              "        0.49411765],\n",
              "       [0.49411765, 0.49411765, 0.49411765, ..., 0.49411765, 0.49411765,\n",
              "        0.49411765],\n",
              "       [0.49411765, 0.49411765, 0.49411765, ..., 0.49411765, 0.49411765,\n",
              "        0.49411765],\n",
              "       ...,\n",
              "       [0.49411765, 0.49411765, 0.49411765, ..., 0.49411765, 0.49411765,\n",
              "        0.49411765],\n",
              "       [0.49411765, 0.49411765, 0.49411765, ..., 0.49411765, 0.49411765,\n",
              "        0.49411765],\n",
              "       [0.49411765, 0.49411765, 0.49411765, ..., 0.49411765, 0.49411765,\n",
              "        0.49411765]])"
            ]
          },
          "metadata": {
            "tags": []
          },
          "execution_count": 11
        }
      ]
    },
    {
      "cell_type": "code",
      "metadata": {
        "id": "pel9sX7uoilQ",
        "colab_type": "code",
        "colab": {}
      },
      "source": [
        "X_train, X_test, Y_train, Y_test = train_test_split(data_X, data_Y, test_size=0.3, random_state=42)"
      ],
      "execution_count": 12,
      "outputs": []
    },
    {
      "cell_type": "code",
      "metadata": {
        "id": "IYomjfhw6xdm",
        "colab_type": "code",
        "colab": {}
      },
      "source": [
        "c_a = 0\n",
        "c_b = 0\n",
        "c_c = 0\n",
        "for i in Y_train:\n",
        "  if i==0:\n",
        "    c_a = c_a +1\n",
        "  \n",
        "  if i==1:\n",
        "    c_b = c_b +1\n",
        "  \n",
        "  if i==2:\n",
        "    c_c = c_c +1"
      ],
      "execution_count": 13,
      "outputs": []
    },
    {
      "cell_type": "code",
      "metadata": {
        "id": "MrQ_zAkteN2d",
        "colab_type": "code",
        "colab": {
          "base_uri": "https://localhost:8080/",
          "height": 34
        },
        "outputId": "e4a616b1-977f-4ea5-a3dd-4d53478c0b3e"
      },
      "source": [
        "print(c_a,\"   \",c_b,\"  \",c_c)"
      ],
      "execution_count": 14,
      "outputs": [
        {
          "output_type": "stream",
          "text": [
            "339     359    352\n"
          ],
          "name": "stdout"
        }
      ]
    },
    {
      "cell_type": "code",
      "metadata": {
        "id": "CkcU0wM6ZHqX",
        "colab_type": "code",
        "colab": {
          "base_uri": "https://localhost:8080/",
          "height": 624
        },
        "outputId": "f087814d-c6f8-496f-a024-775b8a0476fb"
      },
      "source": [
        "plt.figure(figsize = (10, 10))\n",
        "plt.imshow(data_X[0], cmap='gray')\n",
        "plt.title(data_Y[0])"
      ],
      "execution_count": 15,
      "outputs": [
        {
          "output_type": "execute_result",
          "data": {
            "text/plain": [
              "Text(0.5, 1.0, '0')"
            ]
          },
          "metadata": {
            "tags": []
          },
          "execution_count": 15
        },
        {
          "output_type": "display_data",
          "data": {
            "image/png": "[encoded data removed]",
            "text/plain": [
              "<Figure size 720x720 with 1 Axes>"
            ]
          },
          "metadata": {
            "tags": [],
            "needs_background": "light"
          }
        }
      ]
    },
    {
      "cell_type": "code",
      "metadata": {
        "id": "ewCQDhsvZXHF",
        "colab_type": "code",
        "colab": {}
      },
      "source": [
        "activationFunction = 'relu'\n",
        "def getModel():\n",
        "    model = Sequential()\n",
        "    \n",
        "    model.add(Conv2D(64, kernel_size = (5, 5), activation=activationFunction, input_shape=(32, 32, 1)))\n",
        "    model.add(MaxPooling2D(pool_size=(2,2)))\n",
        "    model.add(Dropout(0.1))\n",
        "\n",
        "    model.add(Conv2D(48, kernel_size=(3,3), activation=activationFunction))\n",
        "    model.add(MaxPooling2D(pool_size=(2,2)))\n",
        "    model.add(Dropout(0.1))\n",
        "    \n",
        "    model.add(Conv2D(20, kernel_size=(3,3), activation=activationFunction))\n",
        "    model.add(MaxPooling2D(pool_size=(2,2)))\n",
        "    model.add(Dropout(0.1))\n",
        "    \n",
        "    model.add(Flatten())\n",
        "    model.add(Dense(100, activation=activationFunction, name ='feature_dense'))\n",
        "    model.add(Dense(3, activation = 'softmax'))\n",
        "    model.compile(optimizer='adam', loss='sparse_categorical_crossentropy', metrics=['accuracy'])\n",
        "    \n",
        "    return model\n",
        "\n",
        "model_train = getModel()\n",
        "# model_test = getModel()"
      ],
      "execution_count": 16,
      "outputs": []
    },
    {
      "cell_type": "code",
      "metadata": {
        "id": "hr3DPc_Wg30V",
        "colab_type": "code",
        "colab": {}
      },
      "source": [
        "def showResults(test, pred):\n",
        "    target_names = ['A', 'C', 'H']\n",
        "    print(classification_report(test, pred, target_names=target_names))\n",
        "    accuracy = accuracy_score(test, pred)\n",
        "    precision=precision_score(test, pred, average='weighted')\n",
        "    f1Score=f1_score(test, pred, average='weighted') \n",
        "    print(\"Accuracy  : {}\".format(accuracy))\n",
        "    print(\"Precision : {}\".format(precision))\n",
        "    print(\"f1Score : {}\".format(f1Score))\n",
        "    cm=confusion_matrix(test, pred)\n",
        "    print(cm)"
      ],
      "execution_count": 17,
      "outputs": []
    },
    {
      "cell_type": "code",
      "metadata": {
        "id": "ab0yNrGTty14",
        "colab_type": "code",
        "colab": {
          "base_uri": "https://localhost:8080/",
          "height": 34
        },
        "outputId": "bbef1b67-4fee-44b9-e316-a3a97dbcc9c2"
      },
      "source": [
        "X_train = np.expand_dims(X_train, axis = 3)\n",
        "X_test = np.expand_dims(X_test, axis = 3)\n",
        "print(X_train.shape, X_test.shape, Y_train.shape, Y_test.shape)\n",
        "epoch_num = 7"
      ],
      "execution_count": 18,
      "outputs": [
        {
          "output_type": "stream",
          "text": [
            "(1050, 32, 32, 1) (450, 32, 32, 1) (1050,) (450,)\n"
          ],
          "name": "stdout"
        }
      ]
    },
    {
      "cell_type": "code",
      "metadata": {
        "id": "IThMKwFWrDnY",
        "colab_type": "code",
        "colab": {}
      },
      "source": [
        "# y_train_cat = to_categorical(Y_train)\n",
        "# y_test_cat = to_categorical(Y_test)"
      ],
      "execution_count": 19,
      "outputs": []
    },
    {
      "cell_type": "code",
      "metadata": {
        "id": "zbXVfdQ7iNex",
        "colab_type": "code",
        "colab": {
          "base_uri": "https://localhost:8080/",
          "height": 252
        },
        "outputId": "03daf9e8-5575-40af-b8da-56f2a7a7217d"
      },
      "source": [
        "history_train = model_train.fit(X_train, Y_train, \n",
        "                    epochs=epoch_num, \n",
        "                    batch_size = 64)  "
      ],
      "execution_count": 20,
      "outputs": [
        {
          "output_type": "stream",
          "text": [
            "Epoch 1/7\n",
            "17/17 [==============================] - 0s 14ms/step - loss: 1.0000 - accuracy: 0.5505\n",
            "Epoch 2/7\n",
            "17/17 [==============================] - 0s 8ms/step - loss: 0.4641 - accuracy: 0.8400\n",
            "Epoch 3/7\n",
            "17/17 [==============================] - 0s 7ms/step - loss: 0.2109 - accuracy: 0.9219\n",
            "Epoch 4/7\n",
            "17/17 [==============================] - 0s 8ms/step - loss: 0.0957 - accuracy: 0.9724\n",
            "Epoch 5/7\n",
            "17/17 [==============================] - 0s 7ms/step - loss: 0.0433 - accuracy: 0.9867\n",
            "Epoch 6/7\n",
            "17/17 [==============================] - 0s 7ms/step - loss: 0.0231 - accuracy: 0.9933\n",
            "Epoch 7/7\n",
            "17/17 [==============================] - 0s 7ms/step - loss: 0.0213 - accuracy: 0.9952\n"
          ],
          "name": "stdout"
        }
      ]
    },
    {
      "cell_type": "code",
      "metadata": {
        "id": "Q2bGcRK7KFWQ",
        "colab_type": "code",
        "colab": {
          "base_uri": "https://localhost:8080/",
          "height": 554
        },
        "outputId": "f60abad4-b0fa-48a9-fc45-04cbebfd8379"
      },
      "source": [
        "intermediate_layer_train = Model(inputs=model_train.input,\n",
        "                                 outputs=model_train.get_layer('feature_dense').output)\n",
        "\n",
        "intermediate_layer_train.summary()"
      ],
      "execution_count": 21,
      "outputs": [
        {
          "output_type": "stream",
          "text": [
            "Model: \"functional_1\"\n",
            "_________________________________________________________________\n",
            "Layer (type)                 Output Shape              Param #   \n",
            "=================================================================\n",
            "conv2d_input (InputLayer)    [(None, 32, 32, 1)]       0         \n",
            "_________________________________________________________________\n",
            "conv2d (Conv2D)              (None, 28, 28, 64)        1664      \n",
            "_________________________________________________________________\n",
            "max_pooling2d (MaxPooling2D) (None, 14, 14, 64)        0         \n",
            "_________________________________________________________________\n",
            "dropout (Dropout)            (None, 14, 14, 64)        0         \n",
            "_________________________________________________________________\n",
            "conv2d_1 (Conv2D)            (None, 12, 12, 48)        27696     \n",
            "_________________________________________________________________\n",
            "max_pooling2d_1 (MaxPooling2 (None, 6, 6, 48)          0         \n",
            "_________________________________________________________________\n",
            "dropout_1 (Dropout)          (None, 6, 6, 48)          0         \n",
            "_________________________________________________________________\n",
            "conv2d_2 (Conv2D)            (None, 4, 4, 20)          8660      \n",
            "_________________________________________________________________\n",
            "max_pooling2d_2 (MaxPooling2 (None, 2, 2, 20)          0         \n",
            "_________________________________________________________________\n",
            "dropout_2 (Dropout)          (None, 2, 2, 20)          0         \n",
            "_________________________________________________________________\n",
            "flatten (Flatten)            (None, 80)                0         \n",
            "_________________________________________________________________\n",
            "feature_dense (Dense)        (None, 100)               8100      \n",
            "=================================================================\n",
            "Total params: 46,120\n",
            "Trainable params: 46,120\n",
            "Non-trainable params: 0\n",
            "_________________________________________________________________\n"
          ],
          "name": "stdout"
        }
      ]
    },
    {
      "cell_type": "code",
      "metadata": {
        "id": "S8XuBd18Ly0z",
        "colab_type": "code",
        "colab": {}
      },
      "source": [
        "XTrainFeature = intermediate_layer_train.predict(X_train)\n",
        "XTestFeature = intermediate_layer_train.predict(X_test)"
      ],
      "execution_count": 22,
      "outputs": []
    },
    {
      "cell_type": "code",
      "metadata": {
        "id": "zVAg5pxsj3KL",
        "colab_type": "code",
        "colab": {
          "base_uri": "https://localhost:8080/",
          "height": 34
        },
        "outputId": "e0c4d63b-4ed2-4711-bccc-508ca21dceb2"
      },
      "source": [
        "print(XTestFeature.shape,\"   \",XTrainFeature.shape)"
      ],
      "execution_count": 23,
      "outputs": [
        {
          "output_type": "stream",
          "text": [
            "(450, 100)     (1050, 100)\n"
          ],
          "name": "stdout"
        }
      ]
    },
    {
      "cell_type": "code",
      "metadata": {
        "id": "eF-DaIF6Lomt",
        "colab_type": "code",
        "colab": {}
      },
      "source": [
        "from sklearn.neighbors import KNeighborsClassifier\n",
        "from sklearn.model_selection import GridSearchCV\n",
        "from sklearn.metrics import accuracy_score\n",
        "neigh = KNeighborsClassifier()\n",
        "k_range = [3, 5, 7, 9]\n",
        "param_grid = dict(n_neighbors=k_range)\n",
        "grid = GridSearchCV(neigh, param_grid, cv=5, scoring='accuracy')"
      ],
      "execution_count": 24,
      "outputs": []
    },
    {
      "cell_type": "code",
      "metadata": {
        "id": "ELTf1jjRjo06",
        "colab_type": "code",
        "colab": {
          "base_uri": "https://localhost:8080/",
          "height": 185
        },
        "outputId": "fce658a5-90ec-4359-9dbf-98b7d7600df6"
      },
      "source": [
        "grid.fit(XTrainFeature, Y_train)"
      ],
      "execution_count": 25,
      "outputs": [
        {
          "output_type": "execute_result",
          "data": {
            "text/plain": [
              "GridSearchCV(cv=5, error_score=nan,\n",
              "             estimator=KNeighborsClassifier(algorithm='auto', leaf_size=30,\n",
              "                                            metric='minkowski',\n",
              "                                            metric_params=None, n_jobs=None,\n",
              "                                            n_neighbors=5, p=2,\n",
              "                                            weights='uniform'),\n",
              "             iid='deprecated', n_jobs=None,\n",
              "             param_grid={'n_neighbors': [3, 5, 7, 9]}, pre_dispatch='2*n_jobs',\n",
              "             refit=True, return_train_score=False, scoring='accuracy',\n",
              "             verbose=0)"
            ]
          },
          "metadata": {
            "tags": []
          },
          "execution_count": 25
        }
      ]
    },
    {
      "cell_type": "code",
      "metadata": {
        "id": "h0rOHe_mjxTv",
        "colab_type": "code",
        "colab": {
          "base_uri": "https://localhost:8080/",
          "height": 34
        },
        "outputId": "c3119b21-649e-433a-8969-ff4a8bc26185"
      },
      "source": [
        "grid.best_params_"
      ],
      "execution_count": 26,
      "outputs": [
        {
          "output_type": "execute_result",
          "data": {
            "text/plain": [
              "{'n_neighbors': 3}"
            ]
          },
          "metadata": {
            "tags": []
          },
          "execution_count": 26
        }
      ]
    },
    {
      "cell_type": "code",
      "metadata": {
        "id": "GHPqL_yATIdQ",
        "colab_type": "code",
        "colab": {
          "base_uri": "https://localhost:8080/",
          "height": 353
        },
        "outputId": "b01c7662-4419-4693-b956-92d638275aea"
      },
      "source": [
        "grid.cv_results_"
      ],
      "execution_count": 27,
      "outputs": [
        {
          "output_type": "execute_result",
          "data": {
            "text/plain": [
              "{'mean_fit_time': array([0.00638342, 0.00605078, 0.00557809, 0.00596685]),\n",
              " 'mean_score_time': array([0.01767187, 0.01874113, 0.01578426, 0.01744852]),\n",
              " 'mean_test_score': array([1.        , 1.        , 1.        , 0.99904762]),\n",
              " 'param_n_neighbors': masked_array(data=[3, 5, 7, 9],\n",
              "              mask=[False, False, False, False],\n",
              "        fill_value='?',\n",
              "             dtype=object),\n",
              " 'params': [{'n_neighbors': 3},\n",
              "  {'n_neighbors': 5},\n",
              "  {'n_neighbors': 7},\n",
              "  {'n_neighbors': 9}],\n",
              " 'rank_test_score': array([1, 1, 1, 4], dtype=int32),\n",
              " 'split0_test_score': array([1., 1., 1., 1.]),\n",
              " 'split1_test_score': array([1., 1., 1., 1.]),\n",
              " 'split2_test_score': array([1., 1., 1., 1.]),\n",
              " 'split3_test_score': array([1., 1., 1., 1.]),\n",
              " 'split4_test_score': array([1.       , 1.       , 1.       , 0.9952381]),\n",
              " 'std_fit_time': array([0.00138129, 0.00085538, 0.00041063, 0.00086082]),\n",
              " 'std_score_time': array([0.0017046 , 0.00215205, 0.00030051, 0.00181189]),\n",
              " 'std_test_score': array([0.        , 0.        , 0.        , 0.00190476])}"
            ]
          },
          "metadata": {
            "tags": []
          },
          "execution_count": 27
        }
      ]
    },
    {
      "cell_type": "code",
      "metadata": {
        "id": "yvltn72gk7vi",
        "colab_type": "code",
        "colab": {}
      },
      "source": [
        "import pickle\n",
        "pkl_knn = \"/content/drive/My Drive/Smart Health/publicID-KNN.pkl\"\n",
        "pkl_rf = \"/content/drive/My Drive/Smart Health/publicID-RF.pkl\"\n",
        "with open(pkl_knn, 'wb') as file:\n",
        "  pickle.dump(grid, file)"
      ],
      "execution_count": 28,
      "outputs": []
    },
    {
      "cell_type": "code",
      "metadata": {
        "id": "1_XTMWsLk6wg",
        "colab_type": "code",
        "colab": {
          "base_uri": "https://localhost:8080/",
          "height": 286
        },
        "outputId": "9db9f8f8-08cb-4af9-ec05-80cb7014bdb9"
      },
      "source": [
        "with open(pkl_knn, 'rb') as file:\n",
        "  grid1 = pickle.load(file)\n",
        "x = grid1.predict(XTestFeature)\n",
        "showResults(Y_test, x)"
      ],
      "execution_count": 29,
      "outputs": [
        {
          "output_type": "stream",
          "text": [
            "              precision    recall  f1-score   support\n",
            "\n",
            "           A       1.00      1.00      1.00       161\n",
            "           C       1.00      1.00      1.00       141\n",
            "           H       1.00      1.00      1.00       148\n",
            "\n",
            "    accuracy                           1.00       450\n",
            "   macro avg       1.00      1.00      1.00       450\n",
            "weighted avg       1.00      1.00      1.00       450\n",
            "\n",
            "Accuracy  : 1.0\n",
            "Precision : 1.0\n",
            "f1Score : 1.0\n",
            "[[161   0   0]\n",
            " [  0 141   0]\n",
            " [  0   0 148]]\n"
          ],
          "name": "stdout"
        }
      ]
    },
    {
      "cell_type": "code",
      "metadata": {
        "id": "EljYFYNL6zkD",
        "colab_type": "code",
        "colab": {}
      },
      "source": [
        "from sklearn.ensemble import RandomForestClassifier\n",
        "from sklearn.model_selection import RandomizedSearchCV"
      ],
      "execution_count": 30,
      "outputs": []
    },
    {
      "cell_type": "code",
      "metadata": {
        "id": "QwgynZuGczLJ",
        "colab_type": "code",
        "colab": {}
      },
      "source": [
        "rf_model = RandomForestClassifier()"
      ],
      "execution_count": 31,
      "outputs": []
    },
    {
      "cell_type": "code",
      "metadata": {
        "id": "S5cfYC521fTN",
        "colab_type": "code",
        "colab": {}
      },
      "source": [
        "# Create the random grid\n",
        "random_grid = {'n_estimators': [int(x) for x in np.linspace(start = 50, stop = 200, num = 10)],\n",
        "               'max_depth': [int(x) for x in np.linspace(5, 25, num = 5)],\n",
        "               'bootstrap': [True, False]\n",
        "               }"
      ],
      "execution_count": 32,
      "outputs": []
    },
    {
      "cell_type": "code",
      "metadata": {
        "id": "PR8Th8v-2Jus",
        "colab_type": "code",
        "colab": {
          "base_uri": "https://localhost:8080/",
          "height": 487
        },
        "outputId": "b95f09d7-9d12-480d-bb95-63a3a94b5329"
      },
      "source": [
        "rf_random = RandomizedSearchCV(estimator =rf_model, \n",
        "                               param_distributions = random_grid, \n",
        "                               n_iter = 25, cv = 5)\n",
        "# Fit the random search model\n",
        "rf_random.fit(XTrainFeature, Y_train)"
      ],
      "execution_count": 33,
      "outputs": [
        {
          "output_type": "execute_result",
          "data": {
            "text/plain": [
              "RandomizedSearchCV(cv=5, error_score=nan,\n",
              "                   estimator=RandomForestClassifier(bootstrap=True,\n",
              "                                                    ccp_alpha=0.0,\n",
              "                                                    class_weight=None,\n",
              "                                                    criterion='gini',\n",
              "                                                    max_depth=None,\n",
              "                                                    max_features='auto',\n",
              "                                                    max_leaf_nodes=None,\n",
              "                                                    max_samples=None,\n",
              "                                                    min_impurity_decrease=0.0,\n",
              "                                                    min_impurity_split=None,\n",
              "                                                    min_samples_leaf=1,\n",
              "                                                    min_samples_split=2,\n",
              "                                                    min_weight_fraction_leaf=0.0,\n",
              "                                                    n_estimators=100,\n",
              "                                                    n_jobs=None,\n",
              "                                                    oob_score=False,\n",
              "                                                    random_state=None,\n",
              "                                                    verbose=0,\n",
              "                                                    warm_start=False),\n",
              "                   iid='deprecated', n_iter=25, n_jobs=None,\n",
              "                   param_distributions={'bootstrap': [True, False],\n",
              "                                        'max_depth': [5, 10, 15, 20, 25],\n",
              "                                        'n_estimators': [50, 66, 83, 100, 116,\n",
              "                                                         133, 150, 166, 183,\n",
              "                                                         200]},\n",
              "                   pre_dispatch='2*n_jobs', random_state=None, refit=True,\n",
              "                   return_train_score=False, scoring=None, verbose=0)"
            ]
          },
          "metadata": {
            "tags": []
          },
          "execution_count": 33
        }
      ]
    },
    {
      "cell_type": "code",
      "metadata": {
        "id": "XRr7czUN2ZSW",
        "colab_type": "code",
        "colab": {
          "base_uri": "https://localhost:8080/",
          "height": 34
        },
        "outputId": "78398315-a1ff-47bc-af88-9187712ea146"
      },
      "source": [
        "rf_random.best_params_"
      ],
      "execution_count": 34,
      "outputs": [
        {
          "output_type": "execute_result",
          "data": {
            "text/plain": [
              "{'bootstrap': True, 'max_depth': 15, 'n_estimators': 83}"
            ]
          },
          "metadata": {
            "tags": []
          },
          "execution_count": 34
        }
      ]
    },
    {
      "cell_type": "code",
      "metadata": {
        "id": "-Uq0wKCWlNoK",
        "colab_type": "code",
        "colab": {}
      },
      "source": [
        "with open(pkl_rf, 'wb') as file:\n",
        "  pickle.dump(rf_random, file)"
      ],
      "execution_count": 35,
      "outputs": []
    },
    {
      "cell_type": "code",
      "metadata": {
        "id": "XkKAjsDW2fqp",
        "colab_type": "code",
        "colab": {
          "base_uri": "https://localhost:8080/",
          "height": 286
        },
        "outputId": "b3f4c7f5-2542-4281-95f5-364231259e55"
      },
      "source": [
        "with open(pkl_rf, 'rb') as file:\n",
        "  rf_random1 = pickle.load(file)\n",
        "predictions = rf_random1.predict(XTestFeature)\n",
        "showResults(Y_test, predictions)"
      ],
      "execution_count": 36,
      "outputs": [
        {
          "output_type": "stream",
          "text": [
            "              precision    recall  f1-score   support\n",
            "\n",
            "           A       1.00      1.00      1.00       161\n",
            "           C       1.00      1.00      1.00       141\n",
            "           H       1.00      1.00      1.00       148\n",
            "\n",
            "    accuracy                           1.00       450\n",
            "   macro avg       1.00      1.00      1.00       450\n",
            "weighted avg       1.00      1.00      1.00       450\n",
            "\n",
            "Accuracy  : 1.0\n",
            "Precision : 1.0\n",
            "f1Score : 1.0\n",
            "[[161   0   0]\n",
            " [  0 141   0]\n",
            " [  0   0 148]]\n"
          ],
          "name": "stdout"
        }
      ]
    }
  ]
}